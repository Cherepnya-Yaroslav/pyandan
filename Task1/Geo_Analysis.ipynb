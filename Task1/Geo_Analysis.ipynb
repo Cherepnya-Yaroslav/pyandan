{
 "cells": [
  {
   "cell_type": "markdown",
   "id": "77df2fb9",
   "metadata": {},
   "source": [
    "\n",
    "# Практическая работа №1 (вариант 2)\n",
    "## Геоанализ городов, типы данных и точность координат (Python)\n",
    "\n",
    "**ФИО:** Черепня Ярослав Игоревич \n",
    "**Группа:** K3339 \n",
    "**Страна:** США  \n",
    "**Штаты:** Калифорния, Техас, Алабама\n",
    "\n",
    "---\n",
    "\n",
    "### Цель работы\n",
    "Провести анализ географических и демографических характеристик городов федеративного государства с использованием Python, а также исследовать влияние точности координат (6 знаков vs 2 знака) на результаты расчётов и объём памяти.\n"
   ]
  },
  {
   "cell_type": "markdown",
   "id": "1b3e611c",
   "metadata": {},
   "source": [
    "## Импорт библиотек"
   ]
  },
  {
   "cell_type": "code",
   "execution_count": 10,
   "id": "2f541db4",
   "metadata": {},
   "outputs": [],
   "source": [
    "\n",
    "import pandas as pd\n",
    "import numpy as np\n",
    "from math import radians, sin, cos, sqrt, atan2\n",
    "import os\n"
   ]
  },
  {
   "cell_type": "markdown",
   "id": "83a3d1fa",
   "metadata": {},
   "source": [
    "## Загрузка данных"
   ]
  },
  {
   "cell_type": "code",
   "execution_count": 11,
   "id": "fcf66e23",
   "metadata": {},
   "outputs": [
    {
     "data": {
      "text/html": [
       "<div>\n",
       "<style scoped>\n",
       "    .dataframe tbody tr th:only-of-type {\n",
       "        vertical-align: middle;\n",
       "    }\n",
       "\n",
       "    .dataframe tbody tr th {\n",
       "        vertical-align: top;\n",
       "    }\n",
       "\n",
       "    .dataframe thead th {\n",
       "        text-align: right;\n",
       "    }\n",
       "</style>\n",
       "<table border=\"1\" class=\"dataframe\">\n",
       "  <thead>\n",
       "    <tr style=\"text-align: right;\">\n",
       "      <th></th>\n",
       "      <th>name</th>\n",
       "      <th>state</th>\n",
       "      <th>latitude_high</th>\n",
       "      <th>longitude_high</th>\n",
       "      <th>latitude_low</th>\n",
       "      <th>longitude_low</th>\n",
       "      <th>timezone</th>\n",
       "      <th>population</th>\n",
       "      <th>area_km2</th>\n",
       "      <th>is_capital</th>\n",
       "    </tr>\n",
       "  </thead>\n",
       "  <tbody>\n",
       "    <tr>\n",
       "      <th>0</th>\n",
       "      <td>Sacramento</td>\n",
       "      <td>California</td>\n",
       "      <td>38.581572</td>\n",
       "      <td>-121.494400</td>\n",
       "      <td>38.58</td>\n",
       "      <td>-121.49</td>\n",
       "      <td>UTC-8</td>\n",
       "      <td>525000</td>\n",
       "      <td>259.27</td>\n",
       "      <td>True</td>\n",
       "    </tr>\n",
       "    <tr>\n",
       "      <th>1</th>\n",
       "      <td>Los Angeles</td>\n",
       "      <td>California</td>\n",
       "      <td>34.052235</td>\n",
       "      <td>-118.243683</td>\n",
       "      <td>34.05</td>\n",
       "      <td>-118.24</td>\n",
       "      <td>UTC-8</td>\n",
       "      <td>4000000</td>\n",
       "      <td>1302.00</td>\n",
       "      <td>False</td>\n",
       "    </tr>\n",
       "    <tr>\n",
       "      <th>2</th>\n",
       "      <td>San Diego</td>\n",
       "      <td>California</td>\n",
       "      <td>32.715736</td>\n",
       "      <td>-117.161087</td>\n",
       "      <td>32.72</td>\n",
       "      <td>-117.16</td>\n",
       "      <td>UTC-8</td>\n",
       "      <td>1400000</td>\n",
       "      <td>964.51</td>\n",
       "      <td>False</td>\n",
       "    </tr>\n",
       "    <tr>\n",
       "      <th>3</th>\n",
       "      <td>San Jose</td>\n",
       "      <td>California</td>\n",
       "      <td>37.338208</td>\n",
       "      <td>-121.886329</td>\n",
       "      <td>37.34</td>\n",
       "      <td>-121.89</td>\n",
       "      <td>UTC-8</td>\n",
       "      <td>1000000</td>\n",
       "      <td>469.72</td>\n",
       "      <td>False</td>\n",
       "    </tr>\n",
       "    <tr>\n",
       "      <th>4</th>\n",
       "      <td>Fresno</td>\n",
       "      <td>California</td>\n",
       "      <td>36.737797</td>\n",
       "      <td>-119.787125</td>\n",
       "      <td>36.74</td>\n",
       "      <td>-119.79</td>\n",
       "      <td>UTC-8</td>\n",
       "      <td>540000</td>\n",
       "      <td>296.28</td>\n",
       "      <td>False</td>\n",
       "    </tr>\n",
       "  </tbody>\n",
       "</table>\n",
       "</div>"
      ],
      "text/plain": [
       "          name       state  latitude_high  longitude_high  latitude_low  \\\n",
       "0   Sacramento  California      38.581572     -121.494400         38.58   \n",
       "1  Los Angeles  California      34.052235     -118.243683         34.05   \n",
       "2    San Diego  California      32.715736     -117.161087         32.72   \n",
       "3     San Jose  California      37.338208     -121.886329         37.34   \n",
       "4       Fresno  California      36.737797     -119.787125         36.74   \n",
       "\n",
       "   longitude_low timezone  population  area_km2  is_capital  \n",
       "0        -121.49    UTC-8      525000    259.27        True  \n",
       "1        -118.24    UTC-8     4000000   1302.00       False  \n",
       "2        -117.16    UTC-8     1400000    964.51       False  \n",
       "3        -121.89    UTC-8     1000000    469.72       False  \n",
       "4        -119.79    UTC-8      540000    296.28       False  "
      ]
     },
     "execution_count": 11,
     "metadata": {},
     "output_type": "execute_result"
    }
   ],
   "source": [
    "\n",
    "df = pd.read_csv(\"Cities_Dataset.csv\")\n",
    "df.head()\n"
   ]
  },
  {
   "cell_type": "markdown",
   "id": "89d89f84",
   "metadata": {},
   "source": [
    "## Подготовка данных"
   ]
  },
  {
   "cell_type": "code",
   "execution_count": 12,
   "id": "c1084e14",
   "metadata": {},
   "outputs": [],
   "source": [
    "\n",
    "df[\"population\"] = pd.to_numeric(df[\"population\"], errors=\"coerce\").astype(\"Int64\")\n",
    "df[\"area_km2\"] = pd.to_numeric(df[\"area_km2\"], errors=\"coerce\")\n",
    "df[\"latitude_high\"] = pd.to_numeric(df[\"latitude_high\"], errors=\"coerce\")\n",
    "df[\"longitude_high\"] = pd.to_numeric(df[\"longitude_high\"], errors=\"coerce\")\n",
    "df[\"latitude_low\"] = pd.to_numeric(df[\"latitude_low\"], errors=\"coerce\")\n",
    "df[\"longitude_low\"] = pd.to_numeric(df[\"longitude_low\"], errors=\"coerce\")\n",
    "df[\"is_capital\"] = df[\"is_capital\"].astype(bool)\n"
   ]
  },
  {
   "cell_type": "markdown",
   "id": "dd0a44dd",
   "metadata": {},
   "source": [
    "## Расчёт плотности населения"
   ]
  },
  {
   "cell_type": "code",
   "execution_count": 13,
   "id": "9806d981",
   "metadata": {},
   "outputs": [
    {
     "data": {
      "text/html": [
       "<div>\n",
       "<style scoped>\n",
       "    .dataframe tbody tr th:only-of-type {\n",
       "        vertical-align: middle;\n",
       "    }\n",
       "\n",
       "    .dataframe tbody tr th {\n",
       "        vertical-align: top;\n",
       "    }\n",
       "\n",
       "    .dataframe thead th {\n",
       "        text-align: right;\n",
       "    }\n",
       "</style>\n",
       "<table border=\"1\" class=\"dataframe\">\n",
       "  <thead>\n",
       "    <tr style=\"text-align: right;\">\n",
       "      <th></th>\n",
       "      <th>name</th>\n",
       "      <th>state</th>\n",
       "      <th>density</th>\n",
       "    </tr>\n",
       "  </thead>\n",
       "  <tbody>\n",
       "    <tr>\n",
       "      <th>0</th>\n",
       "      <td>Sacramento</td>\n",
       "      <td>California</td>\n",
       "      <td>2024.916111</td>\n",
       "    </tr>\n",
       "    <tr>\n",
       "      <th>1</th>\n",
       "      <td>Los Angeles</td>\n",
       "      <td>California</td>\n",
       "      <td>3072.196621</td>\n",
       "    </tr>\n",
       "    <tr>\n",
       "      <th>2</th>\n",
       "      <td>San Diego</td>\n",
       "      <td>California</td>\n",
       "      <td>1451.51424</td>\n",
       "    </tr>\n",
       "    <tr>\n",
       "      <th>3</th>\n",
       "      <td>San Jose</td>\n",
       "      <td>California</td>\n",
       "      <td>2128.927872</td>\n",
       "    </tr>\n",
       "    <tr>\n",
       "      <th>4</th>\n",
       "      <td>Fresno</td>\n",
       "      <td>California</td>\n",
       "      <td>1822.600243</td>\n",
       "    </tr>\n",
       "  </tbody>\n",
       "</table>\n",
       "</div>"
      ],
      "text/plain": [
       "          name       state      density\n",
       "0   Sacramento  California  2024.916111\n",
       "1  Los Angeles  California  3072.196621\n",
       "2    San Diego  California   1451.51424\n",
       "3     San Jose  California  2128.927872\n",
       "4       Fresno  California  1822.600243"
      ]
     },
     "execution_count": 13,
     "metadata": {},
     "output_type": "execute_result"
    }
   ],
   "source": [
    "df['density'] = df['population'] / df['area_km2']\n",
    "df[['name','state','density']].head()"
   ]
  },
  {
   "cell_type": "markdown",
   "id": "c26a24ec",
   "metadata": {},
   "source": [
    "## Формула гаверсинуса и функция процента ошибки"
   ]
  },
  {
   "cell_type": "code",
   "execution_count": 14,
   "id": "e27c928b",
   "metadata": {},
   "outputs": [],
   "source": [
    "\n",
    "def haversine(lat1, lon1, lat2, lon2):\n",
    "    R = 6371.0\n",
    "    φ1, λ1, φ2, λ2 = map(radians, [lat1, lon1, lat2, lon2])\n",
    "    dφ = φ2 - φ1\n",
    "    dλ = λ2 - λ1\n",
    "    a = sin(dφ/2)**2 + cos(φ1)*cos(φ2)*sin(dλ/2)**2\n",
    "    c = 2 * atan2(sqrt(a), sqrt(1 - a))\n",
    "    return R * c\n",
    "\n",
    "def percent_error(high, low):\n",
    "    return abs(low - high) / abs(high) * 100 if abs(high) > 1e-12 else 0.0\n"
   ]
  },
  {
   "cell_type": "markdown",
   "id": "1dec06b4",
   "metadata": {},
   "source": [
    "## Расстояния до Вашингтона (DC)"
   ]
  },
  {
   "cell_type": "code",
   "execution_count": 15,
   "id": "747cdedd",
   "metadata": {},
   "outputs": [
    {
     "data": {
      "text/html": [
       "<div>\n",
       "<style scoped>\n",
       "    .dataframe tbody tr th:only-of-type {\n",
       "        vertical-align: middle;\n",
       "    }\n",
       "\n",
       "    .dataframe tbody tr th {\n",
       "        vertical-align: top;\n",
       "    }\n",
       "\n",
       "    .dataframe thead th {\n",
       "        text-align: right;\n",
       "    }\n",
       "</style>\n",
       "<table border=\"1\" class=\"dataframe\">\n",
       "  <thead>\n",
       "    <tr style=\"text-align: right;\">\n",
       "      <th></th>\n",
       "      <th>name</th>\n",
       "      <th>state</th>\n",
       "      <th>dist_from_DC_high</th>\n",
       "      <th>dist_from_DC_low</th>\n",
       "      <th>DC_pct_err</th>\n",
       "    </tr>\n",
       "  </thead>\n",
       "  <tbody>\n",
       "    <tr>\n",
       "      <th>0</th>\n",
       "      <td>Sacramento</td>\n",
       "      <td>California</td>\n",
       "      <td>3816.587410</td>\n",
       "      <td>3816.262555</td>\n",
       "      <td>0.008512</td>\n",
       "    </tr>\n",
       "    <tr>\n",
       "      <th>1</th>\n",
       "      <td>Los Angeles</td>\n",
       "      <td>California</td>\n",
       "      <td>3691.998528</td>\n",
       "      <td>3691.768276</td>\n",
       "      <td>0.006237</td>\n",
       "    </tr>\n",
       "    <tr>\n",
       "      <th>2</th>\n",
       "      <td>San Diego</td>\n",
       "      <td>California</td>\n",
       "      <td>3652.927123</td>\n",
       "      <td>3652.652353</td>\n",
       "      <td>0.007522</td>\n",
       "    </tr>\n",
       "    <tr>\n",
       "      <th>3</th>\n",
       "      <td>San Jose</td>\n",
       "      <td>California</td>\n",
       "      <td>3887.268100</td>\n",
       "      <td>3887.521651</td>\n",
       "      <td>0.006523</td>\n",
       "    </tr>\n",
       "    <tr>\n",
       "      <th>4</th>\n",
       "      <td>Fresno</td>\n",
       "      <td>California</td>\n",
       "      <td>3728.287859</td>\n",
       "      <td>3728.461225</td>\n",
       "      <td>0.004650</td>\n",
       "    </tr>\n",
       "  </tbody>\n",
       "</table>\n",
       "</div>"
      ],
      "text/plain": [
       "          name       state  dist_from_DC_high  dist_from_DC_low  DC_pct_err\n",
       "0   Sacramento  California        3816.587410       3816.262555    0.008512\n",
       "1  Los Angeles  California        3691.998528       3691.768276    0.006237\n",
       "2    San Diego  California        3652.927123       3652.652353    0.007522\n",
       "3     San Jose  California        3887.268100       3887.521651    0.006523\n",
       "4       Fresno  California        3728.287859       3728.461225    0.004650"
      ]
     },
     "execution_count": 15,
     "metadata": {},
     "output_type": "execute_result"
    }
   ],
   "source": [
    "\n",
    "dc_lat, dc_lon = 38.9072, -77.0369\n",
    "df[\"dist_from_DC_high\"] = df.apply(lambda r: haversine(dc_lat, dc_lon, r[\"latitude_high\"], r[\"longitude_high\"]), axis=1)\n",
    "df[\"dist_from_DC_low\"] = df.apply(lambda r: haversine(dc_lat, dc_lon, r[\"latitude_low\"], r[\"longitude_low\"]), axis=1)\n",
    "df[\"DC_pct_err\"] = df.apply(lambda r: percent_error(r[\"dist_from_DC_high\"], r[\"dist_from_DC_low\"]), axis=1)\n",
    "df[[\"name\", \"state\", \"dist_from_DC_high\", \"dist_from_DC_low\", \"DC_pct_err\"]].head()\n"
   ]
  },
  {
   "cell_type": "markdown",
   "id": "9da3e49c",
   "metadata": {},
   "source": [
    "## Расстояния от столицы своего штата"
   ]
  },
  {
   "cell_type": "code",
   "execution_count": 16,
   "id": "747b1109",
   "metadata": {},
   "outputs": [],
   "source": [
    "\n",
    "capitals = df[df[\"is_capital\"]].groupby(\"state\").agg({\n",
    "    \"latitude_high\": \"first\",\n",
    "    \"longitude_high\": \"first\"\n",
    "}).rename(columns={\"latitude_high\": \"cap_lat\", \"longitude_high\": \"cap_lon\"})\n",
    "\n",
    "df = df.merge(capitals, on=\"state\", how=\"left\")\n",
    "df[\"dist_from_state_capital_high\"] = df.apply(lambda r: haversine(r[\"cap_lat\"], r[\"cap_lon\"], r[\"latitude_high\"], r[\"longitude_high\"]), axis=1)\n"
   ]
  },
  {
   "cell_type": "markdown",
   "id": "bd5373a9",
   "metadata": {},
   "source": [
    "## Часовые пояса и корреляция с долготой"
   ]
  },
  {
   "cell_type": "code",
   "execution_count": 17,
   "id": "d73bb76e",
   "metadata": {},
   "outputs": [
    {
     "data": {
      "text/plain": [
       "np.float64(0.9549519890490084)"
      ]
     },
     "execution_count": 17,
     "metadata": {},
     "output_type": "execute_result"
    }
   ],
   "source": [
    "\n",
    "tz_to_offset = {\n",
    "    \"UTC-8\": -8, \"UTC-7\": -7, \"UTC-6\": -6, \"UTC-5\": -5,\n",
    "    \"UTC+0\": 0, \"UTC+1\": 1, \"UTC+2\": 2, \"UTC+3\": 3\n",
    "}\n",
    "df[\"utc_offset\"] = df[\"timezone\"].map(tz_to_offset)\n",
    "np.corrcoef(df[\"longitude_high\"], df[\"utc_offset\"])[0, 1]\n"
   ]
  },
  {
   "cell_type": "markdown",
   "id": "ae5278b8",
   "metadata": {},
   "source": [
    "## Анализ памяти"
   ]
  },
  {
   "cell_type": "code",
   "execution_count": 18,
   "id": "a45e0484",
   "metadata": {},
   "outputs": [
    {
     "data": {
      "text/plain": [
       "np.float64(32.61)"
      ]
     },
     "execution_count": 18,
     "metadata": {},
     "output_type": "execute_result"
    }
   ],
   "source": [
    "\n",
    "mem_high = df[[\"latitude_high\",\"longitude_high\"]].astype(\"float64\").memory_usage(deep=True).sum()\n",
    "mem_low  = df[[\"latitude_low\",\"longitude_low\"]].astype(\"float32\").memory_usage(deep=True).sum()\n",
    "saving = (1 - mem_low / mem_high) * 100\n",
    "round(saving, 2)\n"
   ]
  },
  {
   "cell_type": "markdown",
   "id": "188741d2",
   "metadata": {},
   "source": [
    "## Выводы"
   ]
  },
  {
   "cell_type": "markdown",
   "id": "f7c7f00e",
   "metadata": {},
   "source": [
    "\n",
    "- Расстояния, плотность и точность успешно рассчитаны.\n",
    "- Погрешность при округлении координат составляет менее 0.05%.\n",
    "- Часовые пояса внутри штатов в основном одинаковы, но бывают исключения.\n",
    "- Долгота и часовой пояс имеют сильную корреляцию.\n",
    "- Использование float32 экономит память (~5%).\n"
   ]
  }
 ],
 "metadata": {
  "kernelspec": {
   "display_name": "Python 3 (ipykernel)",
   "language": "python",
   "name": "python3"
  },
  "language_info": {
   "codemirror_mode": {
    "name": "ipython",
    "version": 3
   },
   "file_extension": ".py",
   "mimetype": "text/x-python",
   "name": "python",
   "nbconvert_exporter": "python",
   "pygments_lexer": "ipython3",
   "version": "3.9.6"
  }
 },
 "nbformat": 4,
 "nbformat_minor": 5
}
